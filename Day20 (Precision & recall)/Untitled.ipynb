{
 "cells": [
  {
   "cell_type": "markdown",
   "id": "cb291efd",
   "metadata": {},
   "source": [
    "## Precision , recall, F1-score"
   ]
  },
  {
   "cell_type": "markdown",
   "id": "12a218ac",
   "metadata": {},
   "source": [
    "### The confusion matrix is where everything came from \n"
   ]
  },
  {
   "cell_type": "code",
   "execution_count": 5,
   "id": "de347006",
   "metadata": {},
   "outputs": [],
   "source": [
    "import numpy as np\n",
    "confusion_matrix = np.array( [ [91,8],[12,89] ])"
   ]
  },
  {
   "cell_type": "code",
   "execution_count": 6,
   "id": "15b62af4",
   "metadata": {},
   "outputs": [
    {
     "data": {
      "text/plain": [
       "array([[91,  8],\n",
       "       [12, 89]])"
      ]
     },
     "execution_count": 6,
     "metadata": {},
     "output_type": "execute_result"
    }
   ],
   "source": [
    "confusion_matrix"
   ]
  },
  {
   "cell_type": "markdown",
   "id": "d48fee8b",
   "metadata": {},
   "source": [
    "![](tp.png)"
   ]
  },
  {
   "cell_type": "code",
   "execution_count": null,
   "id": "095f48d6",
   "metadata": {},
   "outputs": [],
   "source": []
  }
 ],
 "metadata": {
  "kernelspec": {
   "display_name": "Python 3 (ipykernel)",
   "language": "python",
   "name": "python3"
  },
  "language_info": {
   "codemirror_mode": {
    "name": "ipython",
    "version": 3
   },
   "file_extension": ".py",
   "mimetype": "text/x-python",
   "name": "python",
   "nbconvert_exporter": "python",
   "pygments_lexer": "ipython3",
   "version": "3.11.5"
  }
 },
 "nbformat": 4,
 "nbformat_minor": 5
}
