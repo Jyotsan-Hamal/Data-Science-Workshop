{
 "cells": [
  {
   "cell_type": "markdown",
   "id": "60b9ec50",
   "metadata": {},
   "source": [
    "## Precision , recall, F1-score"
   ]
  },
  {
   "cell_type": "markdown",
   "id": "5b38a334",
   "metadata": {},
   "source": [
    "###A The confusion matrix is where everything came from \n"
   ]
  },
  {
   "cell_type": "code",
   "execution_count": 5,
   "id": "7489d058",
   "metadata": {},
   "outputs": [],
   "source": [
    "import numpy as np\n",
    "confusion_matrix = np.array( [ [91,8],[12,89] ])"
   ]
  },
  {
   "cell_type": "code",
   "execution_count": 6,
   "id": "62db4f25",
   "metadata": {},
   "outputs": [
    {
     "data": {
      "text/plain": [
       "array([[91,  8],\n",
       "       [12, 89]])"
      ]
     },
     "execution_count": 6,
     "metadata": {},
     "output_type": "execute_result"
    }
   ],
   "source": [
    "confusion_matrix"
   ]
  },
  {
   "cell_type": "code",
   "execution_count": null,
   "id": "1317d4c5",
   "metadata": {},
   "outputs": [],
   "source": []
  }
 ],
 "metadata": {
  "kernelspec": {
   "display_name": "Python 3 (ipykernel)",
   "language": "python",
   "name": "python3"
  },
  "language_info": {
   "codemirror_mode": {
    "name": "ipython",
    "version": 3
   },
   "file_extension": ".py",
   "mimetype": "text/x-python",
   "name": "python",
   "nbconvert_exporter": "python",
   "pygments_lexer": "ipython3",
   "version": "3.11.5"
  }
 },
 "nbformat": 4,
 "nbformat_minor": 5
}
