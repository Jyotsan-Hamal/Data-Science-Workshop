{
 "cells": [
  {
   "cell_type": "markdown",
   "id": "36cefebd",
   "metadata": {},
   "source": [
    "\n",
    "## Decorators\n",
    "- It's a function that takes function as a parameter and returns a new function\n"
   ]
  },
  {
   "cell_type": "code",
   "execution_count": 24,
   "id": "9409259d",
   "metadata": {},
   "outputs": [
    {
     "name": "stdout",
     "output_type": "stream",
     "text": [
      "function : add called with argument : 3, 4\n",
      "7\n"
     ]
    }
   ],
   "source": [
    "def log_function(func):\n",
    "    def wrapper(a,b):\n",
    "        result = func(a,b)\n",
    "        print(f'function : {func.__name__} called with argument : {a}, {b}')\n",
    "        return result\n",
    "    return wrapper\n",
    "\n",
    "@log_function\n",
    "def multiply(a,b):\n",
    "    return a*b\n",
    "\n",
    "@log_function\n",
    "def add(a,b):\n",
    "    return a+b\n",
    "\n",
    "result = add(3,4)\n",
    "print(result)"
   ]
  },
  {
   "cell_type": "code",
   "execution_count": 33,
   "id": "3bfaad10",
   "metadata": {},
   "outputs": [
    {
     "name": "stdout",
     "output_type": "stream",
     "text": [
      "function : add called with argument : 1, 2\n",
      "Execution time : 0.00099969 secs\n"
     ]
    },
    {
     "data": {
      "text/plain": [
       "3"
      ]
     },
     "execution_count": 33,
     "metadata": {},
     "output_type": "execute_result"
    }
   ],
   "source": [
    "import time \n",
    "def map_time(func):\n",
    "    def wrapper(a,b):\n",
    "        start_time = time.time()\n",
    "        result = func(a,b)\n",
    "        end_time = time.time()\n",
    "        execution_time = end_time - start_time\n",
    "        print(f\"Execution time : {execution_time:.8f} secs\")\n",
    "        return result\n",
    "    return wrapper\n",
    "\n",
    "@map_time\n",
    "@log_function\n",
    "def add(a,b):\n",
    "    \n",
    "    return a+b\n",
    "\n",
    "add(1,2)"
   ]
  },
  {
   "cell_type": "code",
   "execution_count": null,
   "id": "9357365d",
   "metadata": {},
   "outputs": [],
   "source": []
  },
  {
   "cell_type": "markdown",
   "id": "b6cf0cdb",
   "metadata": {},
   "source": [
    "## *args and **kwargs\n",
    "- *args-> allows you to pass multiple non-key arguments\n",
    "- **kwargs-> allows you to pass multiple keyword arguments"
   ]
  },
  {
   "cell_type": "code",
   "execution_count": 36,
   "id": "343a9c70",
   "metadata": {},
   "outputs": [
    {
     "name": "stdout",
     "output_type": "stream",
     "text": [
      "('broo', 121)\n",
      "broo 121 "
     ]
    }
   ],
   "source": [
    "def print_args(*args):\n",
    "    print(args)\n",
    "    for arg in args:\n",
    "        print(arg , end = \" \")\n",
    "\n",
    "print_args(\"broo\", 121)   "
   ]
  },
  {
   "cell_type": "code",
   "execution_count": 38,
   "id": "df3fc84d",
   "metadata": {},
   "outputs": [
    {
     "name": "stdout",
     "output_type": "stream",
     "text": [
      "Name : Jake Paul\n",
      "student_class : 12\n",
      "gender : male\n"
     ]
    }
   ],
   "source": [
    "def print_kwargs(**kwargs):\n",
    "    for key,value in kwargs.items():\n",
    "        print(f\"{key} : {value}\")\n",
    "        \n",
    "print_kwargs(\n",
    "    Name = \"Jake Paul\",\n",
    "    student_class = 12,\n",
    "    gender = \"male\"\n",
    ")"
   ]
  },
  {
   "cell_type": "markdown",
   "id": "d3094cdc",
   "metadata": {},
   "source": [
    "## Context Manager"
   ]
  },
  {
   "cell_type": "code",
   "execution_count": 45,
   "id": "c3bd06cc",
   "metadata": {},
   "outputs": [
    {
     "name": "stdout",
     "output_type": "stream",
     "text": [
      "asd\n",
      "heheheheh\n",
      "hehehheheh\n",
      "ehheheh\n"
     ]
    }
   ],
   "source": [
    "with open(\"bro.txt\",\"r\") as file:\n",
    "    line = file.read()\n",
    "    print(line)\n"
   ]
  },
  {
   "cell_type": "code",
   "execution_count": null,
   "id": "64051720",
   "metadata": {},
   "outputs": [],
   "source": []
  }
 ],
 "metadata": {
  "kernelspec": {
   "display_name": "Python 3 (ipykernel)",
   "language": "python",
   "name": "python3"
  },
  "language_info": {
   "codemirror_mode": {
    "name": "ipython",
    "version": 3
   },
   "file_extension": ".py",
   "mimetype": "text/x-python",
   "name": "python",
   "nbconvert_exporter": "python",
   "pygments_lexer": "ipython3",
   "version": "3.11.5"
  }
 },
 "nbformat": 4,
 "nbformat_minor": 5
}
