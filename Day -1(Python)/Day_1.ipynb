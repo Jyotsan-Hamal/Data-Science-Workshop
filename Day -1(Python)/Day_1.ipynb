{
 "cells": [
  {
   "cell_type": "code",
   "execution_count": 10,
   "metadata": {
    "id": "MiiaI2qYBDaY"
   },
   "outputs": [],
   "source": [
    "numbers =[1,2,3,4,5,6,]"
   ]
  },
  {
   "cell_type": "code",
   "execution_count": 2,
   "metadata": {
    "colab": {
     "base_uri": "https://localhost:8080/"
    },
    "id": "y8sYllbFBOCV",
    "outputId": "dde9d309-f99d-4e65-f608-483bf1828eff"
   },
   "outputs": [
    {
     "name": "stdout",
     "output_type": "stream",
     "text": [
      "[1, 4, 9, 16, 25, 36]\n"
     ]
    }
   ],
   "source": [
    "sequence_numbers =[]\n",
    "for  num in numbers:\n",
    "  sequence_numbers.append(num**2)\n",
    "print(sequence_numbers)"
   ]
  },
  {
   "cell_type": "markdown",
   "metadata": {
    "id": "NzSNReueD0bG"
   },
   "source": [
    "## **LIST COMPREHENSION**"
   ]
  },
  {
   "cell_type": "code",
   "execution_count": 3,
   "metadata": {
    "colab": {
     "base_uri": "https://localhost:8080/"
    },
    "id": "p697WDNDCABz",
    "outputId": "495d99bb-2d96-4f58-b6a8-611195c2aa7a"
   },
   "outputs": [
    {
     "data": {
      "text/plain": [
       "[1, 4, 9, 16, 25, 36]"
      ]
     },
     "execution_count": 3,
     "metadata": {},
     "output_type": "execute_result"
    }
   ],
   "source": [
    "comprehension_sqrs = [x**2 for x in numbers]\n",
    "comprehension_sqrs"
   ]
  },
  {
   "cell_type": "markdown",
   "metadata": {
    "id": "I5y9G619Eag8"
   },
   "source": [
    "## **ITERATORS**"
   ]
  },
  {
   "cell_type": "code",
   "execution_count": 17,
   "metadata": {
    "id": "ezquQ53REg6p"
   },
   "outputs": [],
   "source": [
    "fruits = ['apple','banana','cherry']"
   ]
  },
  {
   "cell_type": "code",
   "execution_count": 23,
   "metadata": {
    "id": "qj1-m1WVEoS1"
   },
   "outputs": [],
   "source": [
    "fruits_it = iter(fruits)"
   ]
  },
  {
   "cell_type": "code",
   "execution_count": 24,
   "metadata": {
    "colab": {
     "base_uri": "https://localhost:8080/",
     "height": 35
    },
    "id": "zzoxgRB9Esii",
    "outputId": "18ff35f7-19ec-4c31-ca87-2508b9514a10"
   },
   "outputs": [
    {
     "data": {
      "application/vnd.google.colaboratory.intrinsic+json": {
       "type": "string"
      },
      "text/plain": [
       "'apple'"
      ]
     },
     "execution_count": 24,
     "metadata": {},
     "output_type": "execute_result"
    }
   ],
   "source": [
    "next(fruits_it)"
   ]
  },
  {
   "cell_type": "code",
   "execution_count": 25,
   "metadata": {
    "colab": {
     "base_uri": "https://localhost:8080/",
     "height": 35
    },
    "id": "LB8Q0X1cExAd",
    "outputId": "3ffed56f-953e-4f51-8fdb-0b5eaad3678a"
   },
   "outputs": [
    {
     "data": {
      "application/vnd.google.colaboratory.intrinsic+json": {
       "type": "string"
      },
      "text/plain": [
       "'banana'"
      ]
     },
     "execution_count": 25,
     "metadata": {},
     "output_type": "execute_result"
    }
   ],
   "source": [
    "next(fruits_it)"
   ]
  },
  {
   "cell_type": "code",
   "execution_count": 26,
   "metadata": {
    "colab": {
     "base_uri": "https://localhost:8080/",
     "height": 35
    },
    "id": "rfvcx0ooFBCF",
    "outputId": "9774ec77-91d8-4fc4-94e0-c3dab147260e"
   },
   "outputs": [
    {
     "data": {
      "application/vnd.google.colaboratory.intrinsic+json": {
       "type": "string"
      },
      "text/plain": [
       "'cherry'"
      ]
     },
     "execution_count": 26,
     "metadata": {},
     "output_type": "execute_result"
    }
   ],
   "source": [
    "next(fruits_it)"
   ]
  },
  {
   "cell_type": "code",
   "execution_count": 53,
   "metadata": {
    "id": "Qxq-wRsgGrU8"
   },
   "outputs": [],
   "source": [
    "class Customer_Iterator:\n",
    "  def __init__(self):\n",
    "    self.current = 0\n",
    "\n",
    "  def __iter__(self):\n",
    "    return self\n",
    "\n",
    "  def __next__(self):\n",
    "    result = self.current\n",
    "    self.current+=2\n",
    "    return result"
   ]
  },
  {
   "cell_type": "code",
   "execution_count": 55,
   "metadata": {
    "colab": {
     "base_uri": "https://localhost:8080/"
    },
    "id": "b-EmogjPHhHr",
    "outputId": "b3e5b8b1-f72f-4f14-8b20-a40243a1046e"
   },
   "outputs": [
    {
     "name": "stdout",
     "output_type": "stream",
     "text": [
      "0\n",
      "2\n",
      "4\n",
      "6\n",
      "8\n",
      "10\n"
     ]
    }
   ],
   "source": [
    "# Custom iterator incase we need a our own iterator for certain case.\n",
    "\n",
    "num_it = Customer_Iterator()\n",
    "for num in num_it:\n",
    "  print(num)\n",
    "  if num==10:\n",
    "    break"
   ]
  },
  {
   "cell_type": "markdown",
   "metadata": {
    "id": "l7cgdGG_Kxd8"
   },
   "source": [
    "## **GENERATOR**\n",
    "- yield"
   ]
  },
  {
   "cell_type": "code",
   "execution_count": 4,
   "metadata": {
    "id": "U-IjF9zWH2vu"
   },
   "outputs": [],
   "source": [
    "def square_generator(numbers):\n",
    "  for num in numbers:\n",
    "    yield num**2"
   ]
  },
  {
   "cell_type": "code",
   "execution_count": 5,
   "metadata": {
    "id": "KekyiKtKLDTl"
   },
   "outputs": [],
   "source": [
    "squares = square_generator(numbers)"
   ]
  },
  {
   "cell_type": "code",
   "execution_count": 6,
   "metadata": {
    "colab": {
     "base_uri": "https://localhost:8080/"
    },
    "id": "6SLJ1H6bLRWI",
    "outputId": "0c92e206-fd06-4875-ed97-13f86fe00354"
   },
   "outputs": [
    {
     "data": {
      "text/plain": [
       "1"
      ]
     },
     "execution_count": 6,
     "metadata": {},
     "output_type": "execute_result"
    }
   ],
   "source": [
    "next(squares)"
   ]
  },
  {
   "cell_type": "code",
   "execution_count": 7,
   "metadata": {
    "colab": {
     "base_uri": "https://localhost:8080/"
    },
    "id": "4l0eExmyLWBi",
    "outputId": "afa00709-3ae7-430d-a910-0b0de987cc4c"
   },
   "outputs": [
    {
     "data": {
      "text/plain": [
       "4"
      ]
     },
     "execution_count": 7,
     "metadata": {},
     "output_type": "execute_result"
    }
   ],
   "source": [
    "next(squares)"
   ]
  },
  {
   "cell_type": "code",
   "execution_count": 8,
   "metadata": {
    "colab": {
     "base_uri": "https://localhost:8080/"
    },
    "id": "l7PJ6DKRLagA",
    "outputId": "2aad7d59-e413-45bc-d5e4-abdc576e59e6"
   },
   "outputs": [
    {
     "data": {
      "text/plain": [
       "9"
      ]
     },
     "execution_count": 8,
     "metadata": {},
     "output_type": "execute_result"
    }
   ],
   "source": [
    "next(squares)"
   ]
  },
  {
   "cell_type": "code",
   "execution_count": null,
   "metadata": {
    "id": "x4xXE9AfLbI6"
   },
   "outputs": [],
   "source": []
  }
 ],
 "metadata": {
  "colab": {
   "provenance": []
  },
  "kernelspec": {
   "display_name": "Python 3 (ipykernel)",
   "language": "python",
   "name": "python3"
  },
  "language_info": {
   "codemirror_mode": {
    "name": "ipython",
    "version": 3
   },
   "file_extension": ".py",
   "mimetype": "text/x-python",
   "name": "python",
   "nbconvert_exporter": "python",
   "pygments_lexer": "ipython3",
   "version": "3.11.5"
  }
 },
 "nbformat": 4,
 "nbformat_minor": 1
}
