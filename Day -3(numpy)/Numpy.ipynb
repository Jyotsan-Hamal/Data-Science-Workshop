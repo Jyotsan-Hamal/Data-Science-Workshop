{
 "cells": [
  {
   "cell_type": "markdown",
   "id": "737c62de",
   "metadata": {},
   "source": [
    "## **Numpy**"
   ]
  },
  {
   "cell_type": "code",
   "execution_count": 2,
   "id": "70a7cd77",
   "metadata": {},
   "outputs": [],
   "source": [
    "import numpy as np"
   ]
  },
  {
   "cell_type": "code",
   "execution_count": 3,
   "id": "db69c99d",
   "metadata": {},
   "outputs": [
    {
     "data": {
      "text/plain": [
       "array([1, 2, 3, 4, 5])"
      ]
     },
     "execution_count": 3,
     "metadata": {},
     "output_type": "execute_result"
    }
   ],
   "source": [
    "arr_1d = [1,2,3,4,5]\n",
    "np.array(arr_1d)"
   ]
  },
  {
   "cell_type": "code",
   "execution_count": 6,
   "id": "2590cc91",
   "metadata": {},
   "outputs": [
    {
     "data": {
      "text/plain": [
       "array([[2, 1, 5],\n",
       "       [5, 6, 7],\n",
       "       [3, 5, 6]])"
      ]
     },
     "execution_count": 6,
     "metadata": {},
     "output_type": "execute_result"
    }
   ],
   "source": [
    "arr_2d = np.array([[2,1,5],[5,6,7],[3,5,6]])\n",
    "arr_2d"
   ]
  },
  {
   "cell_type": "code",
   "execution_count": 13,
   "id": "d9d3c955",
   "metadata": {},
   "outputs": [
    {
     "data": {
      "text/plain": [
       "array([[0, 0, 0],\n",
       "       [0, 0, 0]])"
      ]
     },
     "execution_count": 13,
     "metadata": {},
     "output_type": "execute_result"
    }
   ],
   "source": [
    "zero_matrix = np.zeros((2,3),dtype='int')\n",
    "zero_matrix"
   ]
  },
  {
   "cell_type": "code",
   "execution_count": 15,
   "id": "a477ca89",
   "metadata": {},
   "outputs": [
    {
     "data": {
      "text/plain": [
       "array([[1, 1, 1],\n",
       "       [1, 1, 1]])"
      ]
     },
     "execution_count": 15,
     "metadata": {},
     "output_type": "execute_result"
    }
   ],
   "source": [
    "ones_matrix = np.ones((2,3),dtype='int')\n",
    "ones_matrix"
   ]
  },
  {
   "cell_type": "code",
   "execution_count": 17,
   "id": "54c3a627",
   "metadata": {},
   "outputs": [
    {
     "data": {
      "text/plain": [
       "array([[1., 0., 0.],\n",
       "       [0., 1., 0.],\n",
       "       [0., 0., 1.]])"
      ]
     },
     "execution_count": 17,
     "metadata": {},
     "output_type": "execute_result"
    }
   ],
   "source": [
    "identity_matrix = np.eye(3)\n",
    "identity_matrix"
   ]
  },
  {
   "cell_type": "markdown",
   "id": "7856ddee",
   "metadata": {},
   "source": [
    "## Arithmetic Operation in Numpy"
   ]
  },
  {
   "cell_type": "code",
   "execution_count": 22,
   "id": "8edc80d8",
   "metadata": {},
   "outputs": [
    {
     "data": {
      "text/plain": [
       "array([0.9, 1.8, 3.6])"
      ]
     },
     "execution_count": 22,
     "metadata": {},
     "output_type": "execute_result"
    }
   ],
   "source": [
    "arr1 = np.array([1,2,4])\n",
    "arr2 = np.array([4,5,6])\n",
    "add_arr = np.add(arr1,arr2)\n",
    "mul_arr = np.multiply(arr1,arr2)\n",
    "\n",
    "arr1 - 10*arr1/100"
   ]
  },
  {
   "cell_type": "markdown",
   "id": "e14e88db",
   "metadata": {},
   "source": [
    "## Matrix Operations"
   ]
  },
  {
   "cell_type": "code",
   "execution_count": 34,
   "id": "039df5a9",
   "metadata": {},
   "outputs": [
    {
     "name": "stdout",
     "output_type": "stream",
     "text": [
      "Matrix 1 : \n",
      " [[1 2 3]\n",
      " [4 5 6]] \n",
      " Matrix 2 :\n",
      " [[4 5 6]\n",
      " [7 8 9]\n",
      " [2 3 4]] \n",
      "Multiplication : \n",
      " [[24 30 36]\n",
      " [63 78 93]] \n"
     ]
    }
   ],
   "source": [
    "matrix_1 = np.array([[1,2,3],[4,5,6]])\n",
    "matrix_2 = np.array([[4,5,6],[7,8,9],[2,3,4]])\n",
    "print(f\"Matrix 1 : \\n {matrix_1} \\n Matrix 2 :\\n {matrix_2} \")\n",
    "result = np.matmul(matrix_1,matrix_2)\n",
    "print(f\"Multiplication : \\n {result} \")\n",
    "\n"
   ]
  },
  {
   "cell_type": "code",
   "execution_count": 35,
   "id": "e7eef879",
   "metadata": {},
   "outputs": [],
   "source": [
    "result[0][0] = 20"
   ]
  },
  {
   "cell_type": "code",
   "execution_count": 36,
   "id": "2a6a72ac",
   "metadata": {},
   "outputs": [
    {
     "data": {
      "text/plain": [
       "array([[20, 30, 36],\n",
       "       [63, 78, 93]])"
      ]
     },
     "execution_count": 36,
     "metadata": {},
     "output_type": "execute_result"
    }
   ],
   "source": [
    "result"
   ]
  },
  {
   "cell_type": "markdown",
   "id": "c5e81feb",
   "metadata": {},
   "source": [
    "## Indexing and Slicing"
   ]
  },
  {
   "cell_type": "code",
   "execution_count": 38,
   "id": "6865e672",
   "metadata": {},
   "outputs": [
    {
     "name": "stdout",
     "output_type": "stream",
     "text": [
      "[4 2 1]\n"
     ]
    }
   ],
   "source": [
    "print(arr1[::-1])"
   ]
  },
  {
   "cell_type": "markdown",
   "id": "ee8ce9c0",
   "metadata": {},
   "source": [
    "## Statistical Operations"
   ]
  },
  {
   "cell_type": "code",
   "execution_count": 44,
   "id": "4dc20618",
   "metadata": {},
   "outputs": [],
   "source": [
    "arr = np.array([1,2,5,6,3,4,5])"
   ]
  },
  {
   "cell_type": "code",
   "execution_count": 45,
   "id": "c91a9d94",
   "metadata": {},
   "outputs": [
    {
     "data": {
      "text/plain": [
       "4.0"
      ]
     },
     "execution_count": 45,
     "metadata": {},
     "output_type": "execute_result"
    }
   ],
   "source": [
    "np.median(arr)"
   ]
  },
  {
   "cell_type": "code",
   "execution_count": 46,
   "id": "fca9cb0f",
   "metadata": {},
   "outputs": [
    {
     "data": {
      "text/plain": [
       "3.7142857142857144"
      ]
     },
     "execution_count": 46,
     "metadata": {},
     "output_type": "execute_result"
    }
   ],
   "source": [
    "arr.mean()"
   ]
  },
  {
   "cell_type": "markdown",
   "id": "1e3ffc44",
   "metadata": {},
   "source": [
    "## Standard Deviation\n",
    "- it's a deviation between all items in the list of our data\n",
    "- how much each item in our list is deviated from mean"
   ]
  },
  {
   "cell_type": "code",
   "execution_count": 56,
   "id": "d95acfb4",
   "metadata": {},
   "outputs": [
    {
     "name": "stdout",
     "output_type": "stream",
     "text": [
      "Error: division by zero\n"
     ]
    }
   ],
   "source": [
    "import pygame\n",
    "\n",
    "def play_mp3(file_path):\n",
    "    pygame.init()\n",
    "    pygame.mixer.init()\n",
    "    pygame.mixer.music.load(file_path)\n",
    "    pygame.mixer.music.play()\n",
    "\n",
    "    # Allow the music to play\n",
    "    pygame.time.wait(5000)  # Use wait instead of delay for accurate timing\n",
    "\n",
    "    pygame.mixer.music.stop()\n",
    "    pygame.quit()\n",
    "\n",
    "def error_handler_decorator(func):\n",
    "    def wrapper():\n",
    "        try:\n",
    "            # Initialize pygame mixer before running the function\n",
    "            pygame.init()\n",
    "            pygame.mixer.init()\n",
    "\n",
    "            # Attempt to run the provided function\n",
    "            result = func()\n",
    "            print(\"Successful\")\n",
    "            play_mp3(\"raj.mp3\")\n",
    "            return result\n",
    "        except Exception as e:\n",
    "            # Handle the exception and print an error message\n",
    "            pygame.mixer.Sound(\"nic.mp3\").play()\n",
    "            print(f\"Error: {e}\")\n",
    "        finally:\n",
    "            # Quit pygame mixer in the finally block to ensure cleanup\n",
    "            pygame.mixer.quit()\n",
    "    \n",
    "    return wrapper\n",
    "\n",
    "# Applying the decorator to a sample function\n",
    "@error_handler_decorator\n",
    "def sample_function():\n",
    "    # This is a sample function that might raise an error\n",
    "    x = 1 / 0\n",
    "\n",
    "# Calling the decorated function\n",
    "sample_function()\n"
   ]
  },
  {
   "cell_type": "code",
   "execution_count": null,
   "id": "f4630971",
   "metadata": {},
   "outputs": [],
   "source": []
  }
 ],
 "metadata": {
  "kernelspec": {
   "display_name": "Python 3 (ipykernel)",
   "language": "python",
   "name": "python3"
  },
  "language_info": {
   "codemirror_mode": {
    "name": "ipython",
    "version": 3
   },
   "file_extension": ".py",
   "mimetype": "text/x-python",
   "name": "python",
   "nbconvert_exporter": "python",
   "pygments_lexer": "ipython3",
   "version": "3.11.5"
  }
 },
 "nbformat": 4,
 "nbformat_minor": 5
}
