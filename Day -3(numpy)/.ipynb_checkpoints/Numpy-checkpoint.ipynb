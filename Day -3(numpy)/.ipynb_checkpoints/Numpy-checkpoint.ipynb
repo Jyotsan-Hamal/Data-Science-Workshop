{
 "cells": [
  {
   "cell_type": "markdown",
   "id": "80df705e",
   "metadata": {},
   "source": [
    "## **Numpy**"
   ]
  },
  {
   "cell_type": "code",
   "execution_count": 2,
   "id": "54ccc3b3",
   "metadata": {},
   "outputs": [],
   "source": [
    "import numpy as np"
   ]
  },
  {
   "cell_type": "code",
   "execution_count": 3,
   "id": "fafe36e0",
   "metadata": {},
   "outputs": [
    {
     "data": {
      "text/plain": [
       "array([1, 2, 3, 4, 5])"
      ]
     },
     "execution_count": 3,
     "metadata": {},
     "output_type": "execute_result"
    }
   ],
   "source": [
    "arr_1d = [1,2,3,4,5]\n",
    "np.array(arr_1d)"
   ]
  },
  {
   "cell_type": "code",
   "execution_count": 6,
   "id": "ad1a9acc",
   "metadata": {},
   "outputs": [
    {
     "data": {
      "text/plain": [
       "array([[2, 1, 5],\n",
       "       [5, 6, 7],\n",
       "       [3, 5, 6]])"
      ]
     },
     "execution_count": 6,
     "metadata": {},
     "output_type": "execute_result"
    }
   ],
   "source": [
    "arr_2d = np.array([[2,1,5],[5,6,7],[3,5,6]])\n",
    "arr_2d"
   ]
  },
  {
   "cell_type": "code",
   "execution_count": 13,
   "id": "674ef048",
   "metadata": {},
   "outputs": [
    {
     "data": {
      "text/plain": [
       "array([[0, 0, 0],\n",
       "       [0, 0, 0]])"
      ]
     },
     "execution_count": 13,
     "metadata": {},
     "output_type": "execute_result"
    }
   ],
   "source": [
    "zero_matrix = np.zeros((2,3),dtype='int')\n",
    "zero_matrix"
   ]
  },
  {
   "cell_type": "code",
   "execution_count": 15,
   "id": "a0d6d7cb",
   "metadata": {},
   "outputs": [
    {
     "data": {
      "text/plain": [
       "array([[1, 1, 1],\n",
       "       [1, 1, 1]])"
      ]
     },
     "execution_count": 15,
     "metadata": {},
     "output_type": "execute_result"
    }
   ],
   "source": [
    "ones_matrix = np.ones((2,3),dtype='int')\n",
    "ones_matrix"
   ]
  },
  {
   "cell_type": "code",
   "execution_count": 17,
   "id": "1a44b721",
   "metadata": {},
   "outputs": [
    {
     "data": {
      "text/plain": [
       "array([[1., 0., 0.],\n",
       "       [0., 1., 0.],\n",
       "       [0., 0., 1.]])"
      ]
     },
     "execution_count": 17,
     "metadata": {},
     "output_type": "execute_result"
    }
   ],
   "source": [
    "identity_matrix = np.eye(3)\n",
    "identity_matrix"
   ]
  },
  {
   "cell_type": "markdown",
   "id": "f05ee61b",
   "metadata": {},
   "source": [
    "## Arithmetic Operation in Numpy"
   ]
  },
  {
   "cell_type": "code",
   "execution_count": 22,
   "id": "11caea66",
   "metadata": {},
   "outputs": [
    {
     "data": {
      "text/plain": [
       "array([0.9, 1.8, 3.6])"
      ]
     },
     "execution_count": 22,
     "metadata": {},
     "output_type": "execute_result"
    }
   ],
   "source": [
    "arr1 = np.array([1,2,4])\n",
    "arr2 = np.array([4,5,6])\n",
    "add_arr = np.add(arr1,arr2)\n",
    "mul_arr = np.multiply(arr1,arr2)\n",
    "\n",
    "arr1 - 10*arr1/100"
   ]
  },
  {
   "cell_type": "markdown",
   "id": "3682dfa0",
   "metadata": {},
   "source": [
    "## Matrix Operations"
   ]
  },
  {
   "cell_type": "code",
   "execution_count": 34,
   "id": "437dfd0e",
   "metadata": {},
   "outputs": [
    {
     "name": "stdout",
     "output_type": "stream",
     "text": [
      "Matrix 1 : \n",
      " [[1 2 3]\n",
      " [4 5 6]] \n",
      " Matrix 2 :\n",
      " [[4 5 6]\n",
      " [7 8 9]\n",
      " [2 3 4]] \n",
      "Multiplication : \n",
      " [[24 30 36]\n",
      " [63 78 93]] \n"
     ]
    }
   ],
   "source": [
    "matrix_1 = np.array([[1,2,3],[4,5,6]])\n",
    "matrix_2 = np.array([[4,5,6],[7,8,9],[2,3,4]])\n",
    "print(f\"Matrix 1 : \\n {matrix_1} \\n Matrix 2 :\\n {matrix_2} \")\n",
    "result = np.matmul(matrix_1,matrix_2)\n",
    "print(f\"Multiplication : \\n {result} \")\n",
    "\n"
   ]
  },
  {
   "cell_type": "code",
   "execution_count": 35,
   "id": "f334be5e",
   "metadata": {},
   "outputs": [],
   "source": [
    "result[0][0] = 20"
   ]
  },
  {
   "cell_type": "code",
   "execution_count": 36,
   "id": "88606562",
   "metadata": {},
   "outputs": [
    {
     "data": {
      "text/plain": [
       "array([[20, 30, 36],\n",
       "       [63, 78, 93]])"
      ]
     },
     "execution_count": 36,
     "metadata": {},
     "output_type": "execute_result"
    }
   ],
   "source": [
    "result"
   ]
  },
  {
   "cell_type": "markdown",
   "id": "8af0c0dc",
   "metadata": {},
   "source": [
    "## Indexing and Slicing"
   ]
  },
  {
   "cell_type": "code",
   "execution_count": 38,
   "id": "f457a79f",
   "metadata": {},
   "outputs": [
    {
     "name": "stdout",
     "output_type": "stream",
     "text": [
      "[4 2 1]\n"
     ]
    }
   ],
   "source": [
    "print(arr1[::-1])"
   ]
  },
  {
   "cell_type": "markdown",
   "id": "f745d710",
   "metadata": {},
   "source": [
    "## Statistical Operations"
   ]
  },
  {
   "cell_type": "code",
   "execution_count": 44,
   "id": "861a6b28",
   "metadata": {},
   "outputs": [],
   "source": [
    "arr = np.array([1,2,5,6,3,4,5])"
   ]
  },
  {
   "cell_type": "code",
   "execution_count": 45,
   "id": "99fec45c",
   "metadata": {},
   "outputs": [
    {
     "data": {
      "text/plain": [
       "4.0"
      ]
     },
     "execution_count": 45,
     "metadata": {},
     "output_type": "execute_result"
    }
   ],
   "source": [
    "np.median(arr)"
   ]
  },
  {
   "cell_type": "code",
   "execution_count": 46,
   "id": "a8df0f47",
   "metadata": {},
   "outputs": [
    {
     "data": {
      "text/plain": [
       "3.7142857142857144"
      ]
     },
     "execution_count": 46,
     "metadata": {},
     "output_type": "execute_result"
    }
   ],
   "source": [
    "arr.mean()"
   ]
  },
  {
   "cell_type": "markdown",
   "id": "47ddde01",
   "metadata": {},
   "source": [
    "## Standard Deviation\n",
    "- it's a deviation between all items in the list of our data\n",
    "- how much each item in our list is deviated from mean"
   ]
  },
  {
   "cell_type": "code",
   "execution_count": 48,
   "id": "84005837",
   "metadata": {},
   "outputs": [
    {
     "name": "stdout",
     "output_type": "stream",
     "text": [
      "pygame 2.5.2 (SDL 2.28.3, Python 3.11.5)\n",
      "Hello from the pygame community. https://www.pygame.org/contribute.html\n"
     ]
    },
    {
     "ename": "error",
     "evalue": "mixer not initialized",
     "output_type": "error",
     "traceback": [
      "\u001b[1;31m---------------------------------------------------------------------------\u001b[0m",
      "\u001b[1;31mZeroDivisionError\u001b[0m                         Traceback (most recent call last)",
      "Cell \u001b[1;32mIn[48], line 6\u001b[0m, in \u001b[0;36merror_handler_decorator.<locals>.wrapper\u001b[1;34m(*args, **kwargs)\u001b[0m\n\u001b[0;32m      4\u001b[0m \u001b[38;5;28;01mtry\u001b[39;00m:\n\u001b[0;32m      5\u001b[0m     \u001b[38;5;66;03m# Attempt to run the provided function\u001b[39;00m\n\u001b[1;32m----> 6\u001b[0m     result \u001b[38;5;241m=\u001b[39m func(\u001b[38;5;241m*\u001b[39margs, \u001b[38;5;241m*\u001b[39m\u001b[38;5;241m*\u001b[39mkwargs)\n\u001b[0;32m      7\u001b[0m     \u001b[38;5;28mprint\u001b[39m(\u001b[38;5;124m\"\u001b[39m\u001b[38;5;124mSuccessful\u001b[39m\u001b[38;5;124m\"\u001b[39m)\n",
      "Cell \u001b[1;32mIn[48], line 21\u001b[0m, in \u001b[0;36msample_function\u001b[1;34m()\u001b[0m\n\u001b[0;32m     18\u001b[0m \u001b[38;5;129m@error_handler_decorator\u001b[39m\n\u001b[0;32m     19\u001b[0m \u001b[38;5;28;01mdef\u001b[39;00m \u001b[38;5;21msample_function\u001b[39m():\n\u001b[0;32m     20\u001b[0m     \u001b[38;5;66;03m# This is a sample function that might raise an error\u001b[39;00m\n\u001b[1;32m---> 21\u001b[0m     x \u001b[38;5;241m=\u001b[39m \u001b[38;5;241m1\u001b[39m \u001b[38;5;241m/\u001b[39m \u001b[38;5;241m0\u001b[39m\n",
      "\u001b[1;31mZeroDivisionError\u001b[0m: division by zero",
      "\nDuring handling of the above exception, another exception occurred:\n",
      "\u001b[1;31merror\u001b[0m                                     Traceback (most recent call last)",
      "Cell \u001b[1;32mIn[48], line 24\u001b[0m\n\u001b[0;32m     21\u001b[0m     x \u001b[38;5;241m=\u001b[39m \u001b[38;5;241m1\u001b[39m \u001b[38;5;241m/\u001b[39m \u001b[38;5;241m0\u001b[39m\n\u001b[0;32m     23\u001b[0m \u001b[38;5;66;03m# Calling the decorated function\u001b[39;00m\n\u001b[1;32m---> 24\u001b[0m sample_function()\n",
      "Cell \u001b[1;32mIn[48], line 12\u001b[0m, in \u001b[0;36merror_handler_decorator.<locals>.wrapper\u001b[1;34m(*args, **kwargs)\u001b[0m\n\u001b[0;32m      9\u001b[0m     \u001b[38;5;28;01mreturn\u001b[39;00m result\n\u001b[0;32m     10\u001b[0m \u001b[38;5;28;01mexcept\u001b[39;00m \u001b[38;5;167;01mException\u001b[39;00m \u001b[38;5;28;01mas\u001b[39;00m e:\n\u001b[0;32m     11\u001b[0m     \u001b[38;5;66;03m# Handle the exception and print an error message\u001b[39;00m\n\u001b[1;32m---> 12\u001b[0m     pygame\u001b[38;5;241m.\u001b[39mmixer\u001b[38;5;241m.\u001b[39mSound(\u001b[38;5;124m\"\u001b[39m\u001b[38;5;124mlol.wav\u001b[39m\u001b[38;5;124m\"\u001b[39m)\u001b[38;5;241m.\u001b[39mplay()\n\u001b[0;32m     13\u001b[0m     \u001b[38;5;28mprint\u001b[39m(\u001b[38;5;124mf\u001b[39m\u001b[38;5;124m\"\u001b[39m\u001b[38;5;124mError: \u001b[39m\u001b[38;5;132;01m{\u001b[39;00me\u001b[38;5;132;01m}\u001b[39;00m\u001b[38;5;124m\"\u001b[39m)\n",
      "\u001b[1;31merror\u001b[0m: mixer not initialized"
     ]
    }
   ],
   "source": [
    "import pygame\n",
    "def error_handler_decorator(func):\n",
    "    def wrapper(*args, **kwargs):\n",
    "        try:\n",
    "            # Attempt to run the provided function\n",
    "            result = func(*args, **kwargs)\n",
    "            print(\"Successful\")\n",
    "            pygame.mixer.Sound(\"haa.wav\").play()\n",
    "            return result\n",
    "        except Exception as e:\n",
    "            # Handle the exception and print an error message\n",
    "            pygame.mixer.Sound(\"lol.wav\").play()\n",
    "            print(f\"Error: {e}\")\n",
    "    \n",
    "    return wrapper\n",
    "\n",
    "# Applying the decorator to a sample function\n",
    "@error_handler_decorator\n",
    "def sample_function():\n",
    "    # This is a sample function that might raise an error\n",
    "    x = 1 / 0\n",
    "\n",
    "# Calling the decorated function\n",
    "sample_function()\n"
   ]
  },
  {
   "cell_type": "code",
   "execution_count": 47,
   "id": "5a4bf01e",
   "metadata": {},
   "outputs": [
    {
     "name": "stdout",
     "output_type": "stream",
     "text": [
      "Collecting pygame\n",
      "  Obtaining dependency information for pygame from https://files.pythonhosted.org/packages/82/61/93ae7afbd931a70510cfdf0a7bb0007540020b8d80bc1d8762ebdc46479b/pygame-2.5.2-cp311-cp311-win_amd64.whl.metadata\n",
      "  Downloading pygame-2.5.2-cp311-cp311-win_amd64.whl.metadata (13 kB)\n",
      "Downloading pygame-2.5.2-cp311-cp311-win_amd64.whl (10.8 MB)\n",
      "   ---------------------------------------- 0.0/10.8 MB ? eta -:--:--\n",
      "   ---------------------------------------- 0.0/10.8 MB ? eta -:--:--\n",
      "   ---------------------------------------- 0.0/10.8 MB ? eta -:--:--\n",
      "   ---------------------------------------- 0.0/10.8 MB 279.3 kB/s eta 0:00:39\n",
      "   ---------------------------------------- 0.0/10.8 MB 279.3 kB/s eta 0:00:39\n",
      "    --------------------------------------- 0.2/10.8 MB 701.4 kB/s eta 0:00:16\n",
      "    --------------------------------------- 0.2/10.8 MB 701.4 kB/s eta 0:00:16\n",
      "    --------------------------------------- 0.2/10.8 MB 752.5 kB/s eta 0:00:14\n",
      "    --------------------------------------- 0.2/10.8 MB 752.5 kB/s eta 0:00:14\n",
      "   - -------------------------------------- 0.3/10.8 MB 780.0 kB/s eta 0:00:14\n",
      "   - -------------------------------------- 0.3/10.8 MB 780.0 kB/s eta 0:00:14\n",
      "   - -------------------------------------- 0.4/10.8 MB 793.8 kB/s eta 0:00:14\n",
      "   - -------------------------------------- 0.4/10.8 MB 833.5 kB/s eta 0:00:13\n",
      "   - -------------------------------------- 0.4/10.8 MB 833.5 kB/s eta 0:00:13\n",
      "   -- ------------------------------------- 0.6/10.8 MB 868.4 kB/s eta 0:00:12\n",
      "   -- ------------------------------------- 0.6/10.8 MB 868.4 kB/s eta 0:00:12\n",
      "   -- ------------------------------------- 0.7/10.8 MB 940.0 kB/s eta 0:00:11\n",
      "   -- ------------------------------------- 0.7/10.8 MB 940.0 kB/s eta 0:00:11\n",
      "   -- ------------------------------------- 0.8/10.8 MB 951.1 kB/s eta 0:00:11\n",
      "   -- ------------------------------------- 0.8/10.8 MB 951.1 kB/s eta 0:00:11\n",
      "   --- ------------------------------------ 0.9/10.8 MB 999.6 kB/s eta 0:00:10\n",
      "   --- ------------------------------------ 0.9/10.8 MB 999.6 kB/s eta 0:00:10\n",
      "   --- ------------------------------------ 1.1/10.8 MB 1.0 MB/s eta 0:00:10\n",
      "   --- ------------------------------------ 1.1/10.8 MB 1.0 MB/s eta 0:00:10\n",
      "   ---- ----------------------------------- 1.1/10.8 MB 973.9 kB/s eta 0:00:10\n",
      "   ---- ----------------------------------- 1.2/10.8 MB 1.0 MB/s eta 0:00:10\n",
      "   ---- ----------------------------------- 1.3/10.8 MB 1.1 MB/s eta 0:00:10\n",
      "   ----- ---------------------------------- 1.4/10.8 MB 1.1 MB/s eta 0:00:09\n",
      "   ----- ---------------------------------- 1.5/10.8 MB 1.1 MB/s eta 0:00:09\n",
      "   ------ --------------------------------- 1.6/10.8 MB 1.2 MB/s eta 0:00:08\n",
      "   ------ --------------------------------- 1.7/10.8 MB 1.2 MB/s eta 0:00:08\n",
      "   ------ --------------------------------- 1.8/10.8 MB 1.3 MB/s eta 0:00:08\n",
      "   ------- -------------------------------- 1.9/10.8 MB 1.3 MB/s eta 0:00:07\n",
      "   ------- -------------------------------- 2.1/10.8 MB 1.3 MB/s eta 0:00:07\n",
      "   -------- ------------------------------- 2.2/10.8 MB 1.4 MB/s eta 0:00:07\n",
      "   -------- ------------------------------- 2.3/10.8 MB 1.4 MB/s eta 0:00:07\n",
      "   -------- ------------------------------- 2.4/10.8 MB 1.4 MB/s eta 0:00:06\n",
      "   --------- ------------------------------ 2.5/10.8 MB 1.5 MB/s eta 0:00:06\n",
      "   --------- ------------------------------ 2.6/10.8 MB 1.5 MB/s eta 0:00:06\n",
      "   ---------- ----------------------------- 2.8/10.8 MB 1.5 MB/s eta 0:00:06\n",
      "   ---------- ----------------------------- 2.9/10.8 MB 1.5 MB/s eta 0:00:06\n",
      "   ----------- ---------------------------- 3.0/10.8 MB 1.5 MB/s eta 0:00:06\n",
      "   ----------- ---------------------------- 3.1/10.8 MB 1.6 MB/s eta 0:00:05\n",
      "   ----------- ---------------------------- 3.2/10.8 MB 1.6 MB/s eta 0:00:05\n",
      "   ------------ --------------------------- 3.4/10.8 MB 1.6 MB/s eta 0:00:05\n",
      "   ------------ --------------------------- 3.5/10.8 MB 1.6 MB/s eta 0:00:05\n",
      "   ------------- -------------------------- 3.6/10.8 MB 1.7 MB/s eta 0:00:05\n",
      "   ------------- -------------------------- 3.7/10.8 MB 1.7 MB/s eta 0:00:05\n",
      "   -------------- ------------------------- 3.8/10.8 MB 1.7 MB/s eta 0:00:05\n",
      "   -------------- ------------------------- 4.0/10.8 MB 1.7 MB/s eta 0:00:04\n",
      "   --------------- ------------------------ 4.1/10.8 MB 1.7 MB/s eta 0:00:04\n",
      "   --------------- ------------------------ 4.2/10.8 MB 1.8 MB/s eta 0:00:04\n",
      "   ---------------- ----------------------- 4.3/10.8 MB 1.8 MB/s eta 0:00:04\n",
      "   ---------------- ----------------------- 4.5/10.8 MB 1.8 MB/s eta 0:00:04\n",
      "   ---------------- ----------------------- 4.6/10.8 MB 1.8 MB/s eta 0:00:04\n",
      "   ----------------- ---------------------- 4.7/10.8 MB 1.8 MB/s eta 0:00:04\n",
      "   ----------------- ---------------------- 4.8/10.8 MB 1.8 MB/s eta 0:00:04\n",
      "   ------------------ --------------------- 4.9/10.8 MB 1.9 MB/s eta 0:00:04\n",
      "   ------------------ --------------------- 5.1/10.8 MB 1.9 MB/s eta 0:00:04\n",
      "   ------------------- -------------------- 5.2/10.8 MB 1.9 MB/s eta 0:00:03\n",
      "   ------------------- -------------------- 5.3/10.8 MB 1.9 MB/s eta 0:00:03\n",
      "   -------------------- ------------------- 5.4/10.8 MB 1.9 MB/s eta 0:00:03\n",
      "   -------------------- ------------------- 5.6/10.8 MB 1.9 MB/s eta 0:00:03\n",
      "   --------------------- ------------------ 5.7/10.8 MB 1.9 MB/s eta 0:00:03\n",
      "   --------------------- ------------------ 5.8/10.8 MB 1.9 MB/s eta 0:00:03\n",
      "   ---------------------- ----------------- 5.9/10.8 MB 1.9 MB/s eta 0:00:03\n",
      "   ---------------------- ----------------- 6.1/10.8 MB 2.0 MB/s eta 0:00:03\n",
      "   ----------------------- ---------------- 6.2/10.8 MB 2.0 MB/s eta 0:00:03\n",
      "   ----------------------- ---------------- 6.3/10.8 MB 2.0 MB/s eta 0:00:03\n",
      "   ----------------------- ---------------- 6.5/10.8 MB 2.0 MB/s eta 0:00:03\n",
      "   ------------------------ --------------- 6.6/10.8 MB 2.0 MB/s eta 0:00:03\n",
      "   ------------------------ --------------- 6.7/10.8 MB 2.0 MB/s eta 0:00:03\n",
      "   ------------------------- -------------- 6.7/10.8 MB 2.0 MB/s eta 0:00:03\n",
      "   ------------------------- -------------- 6.8/10.8 MB 2.0 MB/s eta 0:00:02\n",
      "   ------------------------- -------------- 7.0/10.8 MB 2.0 MB/s eta 0:00:02\n",
      "   -------------------------- ------------- 7.1/10.8 MB 2.0 MB/s eta 0:00:02\n",
      "   -------------------------- ------------- 7.2/10.8 MB 2.0 MB/s eta 0:00:02\n",
      "   -------------------------- ------------- 7.2/10.8 MB 2.0 MB/s eta 0:00:02\n",
      "   --------------------------- ------------ 7.4/10.8 MB 2.0 MB/s eta 0:00:02\n",
      "   --------------------------- ------------ 7.5/10.8 MB 2.0 MB/s eta 0:00:02\n",
      "   ---------------------------- ----------- 7.6/10.8 MB 2.0 MB/s eta 0:00:02\n",
      "   ---------------------------- ----------- 7.8/10.8 MB 2.0 MB/s eta 0:00:02\n",
      "   ----------------------------- ---------- 7.9/10.8 MB 2.1 MB/s eta 0:00:02\n",
      "   ----------------------------- ---------- 8.0/10.8 MB 2.1 MB/s eta 0:00:02\n",
      "   ------------------------------ --------- 8.1/10.8 MB 2.1 MB/s eta 0:00:02\n",
      "   ------------------------------ --------- 8.3/10.8 MB 2.1 MB/s eta 0:00:02\n",
      "   ------------------------------- -------- 8.4/10.8 MB 2.1 MB/s eta 0:00:02\n",
      "   ------------------------------- -------- 8.5/10.8 MB 2.1 MB/s eta 0:00:02\n",
      "   -------------------------------- ------- 8.7/10.8 MB 2.1 MB/s eta 0:00:01\n",
      "   -------------------------------- ------- 8.8/10.8 MB 2.1 MB/s eta 0:00:01\n",
      "   --------------------------------- ------ 8.9/10.8 MB 2.1 MB/s eta 0:00:01\n",
      "   --------------------------------- ------ 9.1/10.8 MB 2.1 MB/s eta 0:00:01\n",
      "   ---------------------------------- ----- 9.2/10.8 MB 2.1 MB/s eta 0:00:01\n",
      "   ---------------------------------- ----- 9.3/10.8 MB 2.1 MB/s eta 0:00:01\n",
      "   ----------------------------------- ---- 9.5/10.8 MB 2.1 MB/s eta 0:00:01\n",
      "   ----------------------------------- ---- 9.6/10.8 MB 2.1 MB/s eta 0:00:01\n",
      "   ------------------------------------ --- 9.7/10.8 MB 2.2 MB/s eta 0:00:01\n",
      "   ------------------------------------ --- 9.8/10.8 MB 2.2 MB/s eta 0:00:01\n",
      "   ------------------------------------- -- 10.0/10.8 MB 2.2 MB/s eta 0:00:01\n",
      "   ------------------------------------- -- 10.1/10.8 MB 2.2 MB/s eta 0:00:01\n",
      "   ------------------------------------- -- 10.2/10.8 MB 2.2 MB/s eta 0:00:01\n",
      "   -------------------------------------- - 10.3/10.8 MB 2.3 MB/s eta 0:00:01\n",
      "   -------------------------------------- - 10.5/10.8 MB 2.3 MB/s eta 0:00:01\n",
      "   ---------------------------------------  10.6/10.8 MB 2.4 MB/s eta 0:00:01\n",
      "   ---------------------------------------  10.7/10.8 MB 2.4 MB/s eta 0:00:01\n",
      "   ---------------------------------------  10.8/10.8 MB 2.4 MB/s eta 0:00:01\n",
      "   ---------------------------------------  10.8/10.8 MB 2.4 MB/s eta 0:00:01\n",
      "   ---------------------------------------- 10.8/10.8 MB 2.3 MB/s eta 0:00:00\n",
      "Installing collected packages: pygame\n",
      "Successfully installed pygame-2.5.2\n"
     ]
    }
   ],
   "source": [
    "!pip install pygame"
   ]
  },
  {
   "cell_type": "code",
   "execution_count": null,
   "id": "894fb4c1",
   "metadata": {},
   "outputs": [],
   "source": []
  }
 ],
 "metadata": {
  "kernelspec": {
   "display_name": "Python 3 (ipykernel)",
   "language": "python",
   "name": "python3"
  },
  "language_info": {
   "codemirror_mode": {
    "name": "ipython",
    "version": 3
   },
   "file_extension": ".py",
   "mimetype": "text/x-python",
   "name": "python",
   "nbconvert_exporter": "python",
   "pygments_lexer": "ipython3",
   "version": "3.11.5"
  }
 },
 "nbformat": 4,
 "nbformat_minor": 5
}
