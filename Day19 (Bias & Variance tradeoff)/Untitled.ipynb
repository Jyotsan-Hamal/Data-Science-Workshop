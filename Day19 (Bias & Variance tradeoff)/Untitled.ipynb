{
 "cells": [
  {
   "cell_type": "markdown",
   "id": "22e69328",
   "metadata": {},
   "source": [
    "# Bias & Variance Tradeoff\n",
    "## 1.Bias\n",
    "- Bias means the model incapability to capture the pattern of training dataset. which leads to underfiting.\n",
    "- In simple terms:\n",
    "    - High Bias => Underfiting\n",
    "## 2. Variance\n",
    "- Variance means when model doesn't perform well in test dataset. It performs great at training dataset \n",
    "making the model overfiting.\n",
    "- In simple terms:\n",
    "    - High Variance => Overfiting"
   ]
  },
  {
   "cell_type": "markdown",
   "id": "a2505aa8",
   "metadata": {},
   "source": [
    "# Overfiting and Underfiting\n",
    "- overfiting-> When model gives high error in test dataset while it perform great at training dataset\n",
    "- underfiting-> When model doesn't perform great at  "
   ]
  }
 ],
 "metadata": {
  "kernelspec": {
   "display_name": "Python 3 (ipykernel)",
   "language": "python",
   "name": "python3"
  },
  "language_info": {
   "codemirror_mode": {
    "name": "ipython",
    "version": 3
   },
   "file_extension": ".py",
   "mimetype": "text/x-python",
   "name": "python",
   "nbconvert_exporter": "python",
   "pygments_lexer": "ipython3",
   "version": "3.11.5"
  }
 },
 "nbformat": 4,
 "nbformat_minor": 5
}
