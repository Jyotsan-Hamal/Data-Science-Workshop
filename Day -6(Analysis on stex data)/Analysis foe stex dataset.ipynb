{
 "cells": [
  {
   "cell_type": "code",
   "execution_count": 18,
   "id": "316ee8df",
   "metadata": {},
   "outputs": [],
   "source": [
    "import pandas as pd\n",
    "import seaborn as sns\n",
    "import matplotlib.pyplot as plt"
   ]
  },
  {
   "cell_type": "code",
   "execution_count": 4,
   "id": "7fc2493e",
   "metadata": {},
   "outputs": [],
   "source": [
    "df = pd.read_csv(\"stex.csv\",encoding='latin-1')"
   ]
  },
  {
   "cell_type": "code",
   "execution_count": 16,
   "id": "1eaa5199",
   "metadata": {},
   "outputs": [
    {
     "data": {
      "text/html": [
       "<div>\n",
       "<style scoped>\n",
       "    .dataframe tbody tr th:only-of-type {\n",
       "        vertical-align: middle;\n",
       "    }\n",
       "\n",
       "    .dataframe tbody tr th {\n",
       "        vertical-align: top;\n",
       "    }\n",
       "\n",
       "    .dataframe thead th {\n",
       "        text-align: right;\n",
       "    }\n",
       "</style>\n",
       "<table border=\"1\" class=\"dataframe\">\n",
       "  <thead>\n",
       "    <tr style=\"text-align: right;\">\n",
       "      <th></th>\n",
       "      <th>L1</th>\n",
       "      <th>C</th>\n",
       "      <th>L1L2</th>\n",
       "      <th>L2</th>\n",
       "      <th>AaA</th>\n",
       "      <th>LoR</th>\n",
       "      <th>Edu.day</th>\n",
       "      <th>Sex</th>\n",
       "      <th>Family</th>\n",
       "      <th>ISO639.3</th>\n",
       "      <th>Enroll</th>\n",
       "      <th>Speaking</th>\n",
       "      <th>morph</th>\n",
       "      <th>lex</th>\n",
       "      <th>new_feat</th>\n",
       "      <th>new_sounds</th>\n",
       "    </tr>\n",
       "  </thead>\n",
       "  <tbody>\n",
       "    <tr>\n",
       "      <th>12146</th>\n",
       "      <td>English</td>\n",
       "      <td>UnitedKingdom</td>\n",
       "      <td>EnglishFrench</td>\n",
       "      <td>French</td>\n",
       "      <td>32</td>\n",
       "      <td>0</td>\n",
       "      <td>4.0</td>\n",
       "      <td>Female</td>\n",
       "      <td>Indo-European</td>\n",
       "      <td>eng</td>\n",
       "      <td>105</td>\n",
       "      <td>572</td>\n",
       "      <td>0.0094</td>\n",
       "      <td>0.083191</td>\n",
       "      <td>11.0</td>\n",
       "      <td>19.0</td>\n",
       "    </tr>\n",
       "    <tr>\n",
       "      <th>29822</th>\n",
       "      <td>Persian</td>\n",
       "      <td>Iran</td>\n",
       "      <td>PersianMonolingual</td>\n",
       "      <td>Monolingual</td>\n",
       "      <td>34</td>\n",
       "      <td>7</td>\n",
       "      <td>3.0</td>\n",
       "      <td>Female</td>\n",
       "      <td>Indo-European</td>\n",
       "      <td>fas</td>\n",
       "      <td>77</td>\n",
       "      <td>507</td>\n",
       "      <td>0.0603</td>\n",
       "      <td>0.555295</td>\n",
       "      <td>21.0</td>\n",
       "      <td>21.0</td>\n",
       "    </tr>\n",
       "    <tr>\n",
       "      <th>30444</th>\n",
       "      <td>Polish</td>\n",
       "      <td>Poland</td>\n",
       "      <td>PolishDanish</td>\n",
       "      <td>Danish</td>\n",
       "      <td>33</td>\n",
       "      <td>5</td>\n",
       "      <td>4.0</td>\n",
       "      <td>Female</td>\n",
       "      <td>Indo-European</td>\n",
       "      <td>pol</td>\n",
       "      <td>100</td>\n",
       "      <td>479</td>\n",
       "      <td>0.0479</td>\n",
       "      <td>0.388004</td>\n",
       "      <td>14.0</td>\n",
       "      <td>25.0</td>\n",
       "    </tr>\n",
       "    <tr>\n",
       "      <th>45132</th>\n",
       "      <td>Swedish</td>\n",
       "      <td>Sweden</td>\n",
       "      <td>SwedishEnglish</td>\n",
       "      <td>English</td>\n",
       "      <td>26</td>\n",
       "      <td>1</td>\n",
       "      <td>4.0</td>\n",
       "      <td>Female</td>\n",
       "      <td>Indo-European</td>\n",
       "      <td>swe</td>\n",
       "      <td>103</td>\n",
       "      <td>564</td>\n",
       "      <td>0.0000</td>\n",
       "      <td>0.100457</td>\n",
       "      <td>8.0</td>\n",
       "      <td>22.0</td>\n",
       "    </tr>\n",
       "    <tr>\n",
       "      <th>31174</th>\n",
       "      <td>Polish</td>\n",
       "      <td>Poland</td>\n",
       "      <td>PolishEnglish</td>\n",
       "      <td>English</td>\n",
       "      <td>26</td>\n",
       "      <td>2</td>\n",
       "      <td>4.0</td>\n",
       "      <td>Female</td>\n",
       "      <td>Indo-European</td>\n",
       "      <td>pol</td>\n",
       "      <td>100</td>\n",
       "      <td>545</td>\n",
       "      <td>0.0479</td>\n",
       "      <td>0.388004</td>\n",
       "      <td>14.0</td>\n",
       "      <td>25.0</td>\n",
       "    </tr>\n",
       "  </tbody>\n",
       "</table>\n",
       "</div>"
      ],
      "text/plain": [
       "            L1              C                L1L2           L2  AaA  LoR  \\\n",
       "12146  English  UnitedKingdom       EnglishFrench       French   32    0   \n",
       "29822  Persian           Iran  PersianMonolingual  Monolingual   34    7   \n",
       "30444   Polish         Poland        PolishDanish       Danish   33    5   \n",
       "45132  Swedish         Sweden      SwedishEnglish      English   26    1   \n",
       "31174   Polish         Poland       PolishEnglish      English   26    2   \n",
       "\n",
       "       Edu.day     Sex         Family ISO639.3  Enroll  Speaking   morph  \\\n",
       "12146      4.0  Female  Indo-European     eng      105       572  0.0094   \n",
       "29822      3.0  Female  Indo-European     fas       77       507  0.0603   \n",
       "30444      4.0  Female  Indo-European     pol      100       479  0.0479   \n",
       "45132      4.0  Female  Indo-European     swe      103       564  0.0000   \n",
       "31174      4.0  Female  Indo-European     pol      100       545  0.0479   \n",
       "\n",
       "            lex  new_feat  new_sounds  \n",
       "12146  0.083191      11.0        19.0  \n",
       "29822  0.555295      21.0        21.0  \n",
       "30444  0.388004      14.0        25.0  \n",
       "45132  0.100457       8.0        22.0  \n",
       "31174  0.388004      14.0        25.0  "
      ]
     },
     "execution_count": 16,
     "metadata": {},
     "output_type": "execute_result"
    }
   ],
   "source": [
    "df.sample(5)"
   ]
  },
  {
   "cell_type": "code",
   "execution_count": 6,
   "id": "e9201a94",
   "metadata": {},
   "outputs": [
    {
     "data": {
      "text/plain": [
       "(50235, 16)"
      ]
     },
     "execution_count": 6,
     "metadata": {},
     "output_type": "execute_result"
    }
   ],
   "source": [
    "df.shape"
   ]
  },
  {
   "cell_type": "code",
   "execution_count": 7,
   "id": "4df69678",
   "metadata": {},
   "outputs": [
    {
     "name": "stdout",
     "output_type": "stream",
     "text": [
      "<class 'pandas.core.frame.DataFrame'>\n",
      "RangeIndex: 50235 entries, 0 to 50234\n",
      "Data columns (total 16 columns):\n",
      " #   Column      Non-Null Count  Dtype  \n",
      "---  ------      --------------  -----  \n",
      " 0   L1          50235 non-null  object \n",
      " 1   C           50235 non-null  object \n",
      " 2   L1L2        50235 non-null  object \n",
      " 3   L2          50235 non-null  object \n",
      " 4   AaA         50235 non-null  int64  \n",
      " 5   LoR         50235 non-null  int64  \n",
      " 6   Edu.day     50226 non-null  float64\n",
      " 7   Sex         50235 non-null  object \n",
      " 8   Family      50235 non-null  object \n",
      " 9   ISO639.3    50235 non-null  object \n",
      " 10  Enroll      50235 non-null  int64  \n",
      " 11  Speaking    50235 non-null  int64  \n",
      " 12  morph       48426 non-null  float64\n",
      " 13  lex         50235 non-null  float64\n",
      " 14  new_feat    48219 non-null  float64\n",
      " 15  new_sounds  48219 non-null  float64\n",
      "dtypes: float64(5), int64(4), object(7)\n",
      "memory usage: 6.1+ MB\n"
     ]
    }
   ],
   "source": [
    "df.info()"
   ]
  },
  {
   "cell_type": "code",
   "execution_count": 8,
   "id": "322d7162",
   "metadata": {},
   "outputs": [
    {
     "data": {
      "text/plain": [
       "L1               0\n",
       "C                0\n",
       "L1L2             0\n",
       "L2               0\n",
       "AaA              0\n",
       "LoR              0\n",
       "Edu.day          9\n",
       "Sex              0\n",
       "Family           0\n",
       "ISO639.3         0\n",
       "Enroll           0\n",
       "Speaking         0\n",
       "morph         1809\n",
       "lex              0\n",
       "new_feat      2016\n",
       "new_sounds    2016\n",
       "dtype: int64"
      ]
     },
     "execution_count": 8,
     "metadata": {},
     "output_type": "execute_result"
    }
   ],
   "source": [
    "df.isnull().sum()"
   ]
  },
  {
   "cell_type": "code",
   "execution_count": 9,
   "id": "93306057",
   "metadata": {},
   "outputs": [
    {
     "data": {
      "text/plain": [
       "883"
      ]
     },
     "execution_count": 9,
     "metadata": {},
     "output_type": "execute_result"
    }
   ],
   "source": [
    "df.duplicated().sum()"
   ]
  },
  {
   "cell_type": "code",
   "execution_count": 17,
   "id": "33908551",
   "metadata": {},
   "outputs": [
    {
     "data": {
      "text/plain": [
       "<AxesSubplot: xlabel='Sex', ylabel='count'>"
      ]
     },
     "execution_count": 17,
     "metadata": {},
     "output_type": "execute_result"
    },
    {
     "data": {
      "image/png": "[encoded data removed]",
      "text/plain": [
       "<Figure size 640x480 with 1 Axes>"
      ]
     },
     "metadata": {},
     "output_type": "display_data"
    }
   ],
   "source": [
    "sns.countplot(x=df['Sex'])"
   ]
  },
  {
   "cell_type": "code",
   "execution_count": 20,
   "id": "748a2d29",
   "metadata": {},
   "outputs": [
    {
     "data": {
      "text/plain": [
       "(array([ 3928.,     0.,     0.,  3672.,     0.,     0., 24357.,     0.,\n",
       "            0., 18269.]),\n",
       " array([1. , 1.3, 1.6, 1.9, 2.2, 2.5, 2.8, 3.1, 3.4, 3.7, 4. ]),\n",
       " <BarContainer object of 10 artists>)"
      ]
     },
     "execution_count": 20,
     "metadata": {},
     "output_type": "execute_result"
    },
    {
     "data": {
      "image/png": "[encoded data removed]",
      "text/plain": [
       "<Figure size 640x480 with 1 Axes>"
      ]
     },
     "metadata": {},
     "output_type": "display_data"
    }
   ],
   "source": [
    "plt.hist(df['Edu.day'])"
   ]
  },
  {
   "cell_type": "code",
   "execution_count": 23,
   "id": "51c43514",
   "metadata": {},
   "outputs": [
    {
     "name": "stderr",
     "output_type": "stream",
     "text": [
      "C:\\Users\\HP\\AppData\\Local\\Temp\\ipykernel_11428\\3773766683.py:1: UserWarning: \n",
      "\n",
      "`distplot` is a deprecated function and will be removed in seaborn v0.14.0.\n",
      "\n",
      "Please adapt your code to use either `displot` (a figure-level function with\n",
      "similar flexibility) or `histplot` (an axes-level function for histograms).\n",
      "\n",
      "For a guide to updating your code to use the new functions, please see\n",
      "https://gist.github.com/mwaskom/de44147ed2974457ad6372750bbe5751\n",
      "\n",
      "  sns.distplot(df['AaA'])\n"
     ]
    },
    {
     "data": {
      "text/plain": [
       "<AxesSubplot: xlabel='AaA', ylabel='Density'>"
      ]
     },
     "execution_count": 23,
     "metadata": {},
     "output_type": "execute_result"
    },
    {
     "data": {
      "image/png": "[encoded data removed]",
      "text/plain": [
       "<Figure size 640x480 with 1 Axes>"
      ]
     },
     "metadata": {},
     "output_type": "display_data"
    }
   ],
   "source": [
    "sns.distplot(df['AaA'])"
   ]
  },
  {
   "cell_type": "code",
   "execution_count": 25,
   "id": "19b834af",
   "metadata": {},
   "outputs": [
    {
     "data": {
      "text/plain": [
       "<AxesSubplot: >"
      ]
     },
     "execution_count": 25,
     "metadata": {},
     "output_type": "execute_result"
    },
    {
     "data": {
      "image/png": "[encoded data removed]",
      "text/plain": [
       "<Figure size 640x480 with 1 Axes>"
      ]
     },
     "metadata": {},
     "output_type": "display_data"
    }
   ],
   "source": [
    "    sns.boxplot(df['AaA'])"
   ]
  },
  {
   "cell_type": "code",
   "execution_count": null,
   "id": "aaca63ef",
   "metadata": {},
   "outputs": [],
   "source": []
  }
 ],
 "metadata": {
  "kernelspec": {
   "display_name": "Python 3 (ipykernel)",
   "language": "python",
   "name": "python3"
  },
  "language_info": {
   "codemirror_mode": {
    "name": "ipython",
    "version": 3
   },
   "file_extension": ".py",
   "mimetype": "text/x-python",
   "name": "python",
   "nbconvert_exporter": "python",
   "pygments_lexer": "ipython3",
   "version": "3.10.9"
  }
 },
 "nbformat": 4,
 "nbformat_minor": 5
}
