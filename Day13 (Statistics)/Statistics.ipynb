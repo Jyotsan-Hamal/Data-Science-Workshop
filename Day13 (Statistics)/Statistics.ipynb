{
 "cells": [
  {
   "cell_type": "markdown",
   "id": "611a98d9",
   "metadata": {},
   "source": [
    "## Statistics\n",
    "- Descriptive\n",
    "    - Central Tendency\n",
    "      - Mean, Median, Mode\n",
    "- Inferential\n",
    "    - For categorical data"
   ]
  },
  {
   "cell_type": "markdown",
   "id": "0ebda4a2",
   "metadata": {},
   "source": [
    "## Standard deviation\n",
    "- gives the mean of differenc in avg value and each value in data\n",
    "\n",
    "## Kurtosis use for the detection of Outlier\n",
    "- we see the data distribution and check the tail of data distribution.\n"
   ]
  },
  {
   "cell_type": "markdown",
   "id": "ac908911",
   "metadata": {},
   "source": [
    "## Hypothesis Testing\n",
    "- T-test\n",
    "- chi-square test\n",
    "- Z-test\n",
    "- ANOVA test"
   ]
  },
  {
   "cell_type": "markdown",
   "id": "a80ca507",
   "metadata": {},
   "source": [
    "## Confidence level:\n",
    "- Collect Data:\n",
    "\n",
    "You collect salary data from a sample of 100 employees in the company.\n",
    "Calculate Sample Mean and Standard Deviation:\n",
    "\n",
    "Let's say the sample mean (average salary) is $50,000, and the standard deviation is $10,000.\n",
    "- Choose Confidence Level:\n",
    "\n",
    "You decide to construct a 95% confidence interval, which is a common choice.\n",
    "Calculate Confidence Interval:\n",
    "\n",
    "Using statistical methods, you calculate the confidence interval. It might look like this:\n",
    "Lower Limit = $50,000 - (1.96 * $10,000)\n",
    "Upper Limit = $50,000 + (1.96 * $10,000)\n",
    "In this case, the 1.96 comes from the standard normal distribution for a 95% confidence interval. You can use different values based on the desired confidence level (e.g., 1.96 for 95%, 2.58 for 99%).\n",
    "\n",
    "- Interpretation:\n",
    "\n",
    "You can now say, \"I am 95% confident that the true average salary of all employees in the company lies between $48,040  and  $51,960.\""
   ]
  },
  {
   "cell_type": "code",
   "execution_count": null,
   "id": "d3d427e1",
   "metadata": {},
   "outputs": [],
   "source": []
  }
 ],
 "metadata": {
  "kernelspec": {
   "display_name": "Python 3 (ipykernel)",
   "language": "python",
   "name": "python3"
  },
  "language_info": {
   "codemirror_mode": {
    "name": "ipython",
    "version": 3
   },
   "file_extension": ".py",
   "mimetype": "text/x-python",
   "name": "python",
   "nbconvert_exporter": "python",
   "pygments_lexer": "ipython3",
   "version": "3.11.5"
  }
 },
 "nbformat": 4,
 "nbformat_minor": 5
}
